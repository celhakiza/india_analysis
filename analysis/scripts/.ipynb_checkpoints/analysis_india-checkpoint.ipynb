{
 "cells": [
  {
   "cell_type": "code",
   "execution_count": 28,
   "id": "f1b48370-fcdd-43d1-930e-158986e77a83",
   "metadata": {},
   "outputs": [],
   "source": [
    "import pandas as pd #for reading the dataset\n",
    "import matplotlib.pyplot as plt #for plotting the results\n",
    "import pwlf"
   ]
  },
  {
   "cell_type": "code",
   "execution_count": 29,
   "id": "8ded4728-7523-4942-a472-fc43fe1fbfba",
   "metadata": {},
   "outputs": [
    {
     "name": "stdout",
     "output_type": "stream",
     "text": [
      "C:\\Users\\chakizimana\\Documents\\GitHub\\india_analysis\\analysis\n"
     ]
    }
   ],
   "source": [
    "cd C:\\Users\\chakizimana\\Documents\\GitHub\\india_analysis\\analysis"
   ]
  },
  {
   "cell_type": "code",
   "execution_count": 30,
   "id": "24c06527-fa48-4b8c-8808-6d41be54b211",
   "metadata": {},
   "outputs": [],
   "source": [
    "# reading the dataset\n",
    "data = pd.read_excel('data/data.xlsx',skiprows=2)"
   ]
  },
  {
   "cell_type": "code",
   "execution_count": 31,
   "id": "34fa2b03-f36f-4266-9380-35ccf5601051",
   "metadata": {},
   "outputs": [],
   "source": [
    "data = data.dropna(how='all',axis=1)"
   ]
  },
  {
   "cell_type": "code",
   "execution_count": 32,
   "id": "e6b78a5c-d7b2-4bcb-91d9-0ebbb28b0235",
   "metadata": {},
   "outputs": [
    {
     "data": {
      "text/html": [
       "<div>\n",
       "<style scoped>\n",
       "    .dataframe tbody tr th:only-of-type {\n",
       "        vertical-align: middle;\n",
       "    }\n",
       "\n",
       "    .dataframe tbody tr th {\n",
       "        vertical-align: top;\n",
       "    }\n",
       "\n",
       "    .dataframe thead th {\n",
       "        text-align: right;\n",
       "    }\n",
       "</style>\n",
       "<table border=\"1\" class=\"dataframe\">\n",
       "  <thead>\n",
       "    <tr style=\"text-align: right;\">\n",
       "      <th></th>\n",
       "      <th>Year</th>\n",
       "      <th>Liver Cancer</th>\n",
       "    </tr>\n",
       "  </thead>\n",
       "  <tbody>\n",
       "    <tr>\n",
       "      <th>0</th>\n",
       "      <td>2021</td>\n",
       "      <td>24772.59</td>\n",
       "    </tr>\n",
       "    <tr>\n",
       "      <th>1</th>\n",
       "      <td>2020</td>\n",
       "      <td>23931.29</td>\n",
       "    </tr>\n",
       "    <tr>\n",
       "      <th>2</th>\n",
       "      <td>2019</td>\n",
       "      <td>23411.58</td>\n",
       "    </tr>\n",
       "    <tr>\n",
       "      <th>3</th>\n",
       "      <td>2018</td>\n",
       "      <td>22847.51</td>\n",
       "    </tr>\n",
       "    <tr>\n",
       "      <th>4</th>\n",
       "      <td>2017</td>\n",
       "      <td>22202.06</td>\n",
       "    </tr>\n",
       "    <tr>\n",
       "      <th>5</th>\n",
       "      <td>2016</td>\n",
       "      <td>21391.19</td>\n",
       "    </tr>\n",
       "    <tr>\n",
       "      <th>6</th>\n",
       "      <td>2015</td>\n",
       "      <td>19966.68</td>\n",
       "    </tr>\n",
       "    <tr>\n",
       "      <th>7</th>\n",
       "      <td>2014</td>\n",
       "      <td>19031.94</td>\n",
       "    </tr>\n",
       "    <tr>\n",
       "      <th>8</th>\n",
       "      <td>2013</td>\n",
       "      <td>18454.65</td>\n",
       "    </tr>\n",
       "    <tr>\n",
       "      <th>9</th>\n",
       "      <td>2012</td>\n",
       "      <td>17785.40</td>\n",
       "    </tr>\n",
       "    <tr>\n",
       "      <th>10</th>\n",
       "      <td>2011</td>\n",
       "      <td>17095.02</td>\n",
       "    </tr>\n",
       "    <tr>\n",
       "      <th>11</th>\n",
       "      <td>2010</td>\n",
       "      <td>16188.11</td>\n",
       "    </tr>\n",
       "  </tbody>\n",
       "</table>\n",
       "</div>"
      ],
      "text/plain": [
       "    Year  Liver Cancer\n",
       "0   2021      24772.59\n",
       "1   2020      23931.29\n",
       "2   2019      23411.58\n",
       "3   2018      22847.51\n",
       "4   2017      22202.06\n",
       "5   2016      21391.19\n",
       "6   2015      19966.68\n",
       "7   2014      19031.94\n",
       "8   2013      18454.65\n",
       "9   2012      17785.40\n",
       "10  2011      17095.02\n",
       "11  2010      16188.11"
      ]
     },
     "execution_count": 32,
     "metadata": {},
     "output_type": "execute_result"
    }
   ],
   "source": [
    "data"
   ]
  },
  {
   "cell_type": "code",
   "execution_count": 38,
   "id": "5be39135-d075-4ceb-8709-36821f94526b",
   "metadata": {},
   "outputs": [
    {
     "data": {
      "text/html": [
       "<div>\n",
       "<style scoped>\n",
       "    .dataframe tbody tr th:only-of-type {\n",
       "        vertical-align: middle;\n",
       "    }\n",
       "\n",
       "    .dataframe tbody tr th {\n",
       "        vertical-align: top;\n",
       "    }\n",
       "\n",
       "    .dataframe thead th {\n",
       "        text-align: right;\n",
       "    }\n",
       "</style>\n",
       "<table border=\"1\" class=\"dataframe\">\n",
       "  <thead>\n",
       "    <tr style=\"text-align: right;\">\n",
       "      <th></th>\n",
       "      <th>year</th>\n",
       "      <th>liver cancer</th>\n",
       "      <th>previous</th>\n",
       "    </tr>\n",
       "  </thead>\n",
       "  <tbody>\n",
       "    <tr>\n",
       "      <th>0</th>\n",
       "      <td>2021.0</td>\n",
       "      <td>24772.59</td>\n",
       "      <td>NaN</td>\n",
       "    </tr>\n",
       "    <tr>\n",
       "      <th>1</th>\n",
       "      <td>2020.0</td>\n",
       "      <td>23931.29</td>\n",
       "      <td>24772.59</td>\n",
       "    </tr>\n",
       "    <tr>\n",
       "      <th>2</th>\n",
       "      <td>2019.0</td>\n",
       "      <td>23411.58</td>\n",
       "      <td>23931.29</td>\n",
       "    </tr>\n",
       "    <tr>\n",
       "      <th>3</th>\n",
       "      <td>2018.0</td>\n",
       "      <td>22847.51</td>\n",
       "      <td>23411.58</td>\n",
       "    </tr>\n",
       "    <tr>\n",
       "      <th>4</th>\n",
       "      <td>2017.0</td>\n",
       "      <td>22202.06</td>\n",
       "      <td>22847.51</td>\n",
       "    </tr>\n",
       "    <tr>\n",
       "      <th>5</th>\n",
       "      <td>2016.0</td>\n",
       "      <td>21391.19</td>\n",
       "      <td>22202.06</td>\n",
       "    </tr>\n",
       "    <tr>\n",
       "      <th>6</th>\n",
       "      <td>2015.0</td>\n",
       "      <td>19966.68</td>\n",
       "      <td>21391.19</td>\n",
       "    </tr>\n",
       "    <tr>\n",
       "      <th>7</th>\n",
       "      <td>2014.0</td>\n",
       "      <td>19031.94</td>\n",
       "      <td>19966.68</td>\n",
       "    </tr>\n",
       "    <tr>\n",
       "      <th>8</th>\n",
       "      <td>2013.0</td>\n",
       "      <td>18454.65</td>\n",
       "      <td>19031.94</td>\n",
       "    </tr>\n",
       "    <tr>\n",
       "      <th>9</th>\n",
       "      <td>2012.0</td>\n",
       "      <td>17785.40</td>\n",
       "      <td>18454.65</td>\n",
       "    </tr>\n",
       "    <tr>\n",
       "      <th>10</th>\n",
       "      <td>2011.0</td>\n",
       "      <td>17095.02</td>\n",
       "      <td>17785.40</td>\n",
       "    </tr>\n",
       "    <tr>\n",
       "      <th>11</th>\n",
       "      <td>2010.0</td>\n",
       "      <td>16188.11</td>\n",
       "      <td>17095.02</td>\n",
       "    </tr>\n",
       "  </tbody>\n",
       "</table>\n",
       "</div>"
      ],
      "text/plain": [
       "      year  liver cancer  previous\n",
       "0   2021.0      24772.59       NaN\n",
       "1   2020.0      23931.29  24772.59\n",
       "2   2019.0      23411.58  23931.29\n",
       "3   2018.0      22847.51  23411.58\n",
       "4   2017.0      22202.06  22847.51\n",
       "5   2016.0      21391.19  22202.06\n",
       "6   2015.0      19966.68  21391.19\n",
       "7   2014.0      19031.94  19966.68\n",
       "8   2013.0      18454.65  19031.94\n",
       "9   2012.0      17785.40  18454.65\n",
       "10  2011.0      17095.02  17785.40\n",
       "11  2010.0      16188.11  17095.02"
      ]
     },
     "execution_count": 38,
     "metadata": {},
     "output_type": "execute_result"
    }
   ],
   "source": [
    "data['previous'] = data['liver cancer'].shift(1)\n",
    "#df['result'] = df['liver'] - df['previous']\n",
    "data['difference']"
   ]
  },
  {
   "cell_type": "code",
   "execution_count": 34,
   "id": "1d21ec69-ce21-4a0d-b12a-8a4dcc110bd7",
   "metadata": {},
   "outputs": [
    {
     "data": {
      "text/plain": [
       "Index(['Year', 'Liver Cancer'], dtype='object')"
      ]
     },
     "execution_count": 34,
     "metadata": {},
     "output_type": "execute_result"
    }
   ],
   "source": [
    "data.columns"
   ]
  },
  {
   "cell_type": "code",
   "execution_count": 35,
   "id": "05f91b19-60bc-42b6-8f9a-5d46ef4239f8",
   "metadata": {},
   "outputs": [],
   "source": [
    "data.columns = data.columns.str.lower()"
   ]
  },
  {
   "cell_type": "code",
   "execution_count": 36,
   "id": "1abd2ff8-fdfc-48cb-9d0b-380981157905",
   "metadata": {},
   "outputs": [],
   "source": [
    "data[['year','liver cancer']] = data[['year','liver cancer']].astype(float)"
   ]
  },
  {
   "cell_type": "code",
   "execution_count": 37,
   "id": "bdfb55e9-a8d1-46b6-a5bd-ddc92574b77b",
   "metadata": {},
   "outputs": [
    {
     "name": "stdout",
     "output_type": "stream",
     "text": [
      "Breakpoints (Joinpoints): [2010.        2017.9747301 2021.       ]\n",
      "Segment Slopes: [841.66226327 629.4950039 ]\n"
     ]
    }
   ],
   "source": [
    "# Initialize piecewise linear fit\n",
    "model = pwlf.PiecewiseLinFit(data['year'], data['liver cancer'])\n",
    "\n",
    "# Specify the number of segments (joinpoints + 1)\n",
    "n_segments = 2\n",
    "\n",
    "# Fit the model\n",
    "breakpoints = model.fit(n_segments)\n",
    "\n",
    "# Predict the fitted values\n",
    "#fitted_values = model.predict(data['year'])\n",
    "\n",
    "# Display the breakpoints\n",
    "print(\"Breakpoints (Joinpoints):\", breakpoints)\n",
    "print(\"Segment Slopes:\", model.slopes)\n"
   ]
  },
  {
   "cell_type": "code",
   "execution_count": null,
   "id": "e11fe865-8fcb-4248-87ac-efdfd6c7da58",
   "metadata": {},
   "outputs": [],
   "source": []
  }
 ],
 "metadata": {
  "kernelspec": {
   "display_name": "Python 3 (ipykernel)",
   "language": "python",
   "name": "python3"
  },
  "language_info": {
   "codemirror_mode": {
    "name": "ipython",
    "version": 3
   },
   "file_extension": ".py",
   "mimetype": "text/x-python",
   "name": "python",
   "nbconvert_exporter": "python",
   "pygments_lexer": "ipython3",
   "version": "3.12.7"
  }
 },
 "nbformat": 4,
 "nbformat_minor": 5
}
